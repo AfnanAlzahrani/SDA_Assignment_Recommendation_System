{
 "cells": [
  {
   "cell_type": "markdown",
   "id": "07292a40",
   "metadata": {},
   "source": [
    "# imports"
   ]
  },
  {
   "cell_type": "code",
   "execution_count": 1,
   "id": "6461eba5",
   "metadata": {},
   "outputs": [],
   "source": [
    "# imports\n",
    "%matplotlib inline\n",
    "import pandas as pd\n",
    "import numpy as np\n",
    "import matplotlib.pyplot as plt\n",
    "import seaborn as sns\n",
    "from scipy import stats\n",
    "from ast import literal_eval\n",
    "from sklearn.model_selection import KFold, train_test_split\n",
    "from sklearn.feature_extraction.text import TfidfVectorizer, CountVectorizer\n",
    "from sklearn.metrics.pairwise import linear_kernel, cosine_similarity\n",
    "from nltk.stem.snowball import SnowballStemmer\n",
    "from nltk.stem.wordnet import WordNetLemmatizer\n",
    "from nltk.corpus import wordnet\n",
    "from surprise import Reader, Dataset, SVD # for collabrotative filtering and matrix factorization\n",
    "from surprise.model_selection import cross_validate\n",
    "import string\n",
    "import re\n",
    "from nltk.corpus import stopwords\n",
    "\n",
    "import warnings; warnings.simplefilter('ignore')\n",
    "pd.set_option('display.max_columns', None)"
   ]
  },
  {
   "cell_type": "code",
   "execution_count": 2,
   "id": "16063548",
   "metadata": {},
   "outputs": [
    {
     "data": {
      "text/html": [
       "<div>\n",
       "<style scoped>\n",
       "    .dataframe tbody tr th:only-of-type {\n",
       "        vertical-align: middle;\n",
       "    }\n",
       "\n",
       "    .dataframe tbody tr th {\n",
       "        vertical-align: top;\n",
       "    }\n",
       "\n",
       "    .dataframe thead th {\n",
       "        text-align: right;\n",
       "    }\n",
       "</style>\n",
       "<table border=\"1\" class=\"dataframe\">\n",
       "  <thead>\n",
       "    <tr style=\"text-align: right;\">\n",
       "      <th></th>\n",
       "      <th>Positive</th>\n",
       "      <th>Negative</th>\n",
       "      <th>Game_id</th>\n",
       "      <th>Game_name</th>\n",
       "      <th>Positive_Rate</th>\n",
       "      <th>links</th>\n",
       "      <th>Game_description</th>\n",
       "    </tr>\n",
       "  </thead>\n",
       "  <tbody>\n",
       "    <tr>\n",
       "      <th>0</th>\n",
       "      <td>285421</td>\n",
       "      <td>3487</td>\n",
       "      <td>620</td>\n",
       "      <td>Portal 2</td>\n",
       "      <td>0.987930</td>\n",
       "      <td>https://store.steampowered.com/app/620</td>\n",
       "      <td>&lt;div class=\"game_area_description\" id=\"game_ar...</td>\n",
       "    </tr>\n",
       "    <tr>\n",
       "      <th>1</th>\n",
       "      <td>102805</td>\n",
       "      <td>1640</td>\n",
       "      <td>400</td>\n",
       "      <td>Portal</td>\n",
       "      <td>0.984298</td>\n",
       "      <td>https://store.steampowered.com/app/400</td>\n",
       "      <td>&lt;div class=\"game_area_description\" id=\"game_ar...</td>\n",
       "    </tr>\n",
       "    <tr>\n",
       "      <th>2</th>\n",
       "      <td>439665</td>\n",
       "      <td>8619</td>\n",
       "      <td>413150</td>\n",
       "      <td>Stardew Valley</td>\n",
       "      <td>0.980773</td>\n",
       "      <td>https://store.steampowered.com/app/413150</td>\n",
       "      <td>&lt;div class=\"game_area_description\" id=\"game_ar...</td>\n",
       "    </tr>\n",
       "    <tr>\n",
       "      <th>3</th>\n",
       "      <td>476762</td>\n",
       "      <td>9701</td>\n",
       "      <td>431960</td>\n",
       "      <td>Wallpaper Engine</td>\n",
       "      <td>0.980058</td>\n",
       "      <td>https://store.steampowered.com/app/431960</td>\n",
       "      <td>&lt;div class=\"game_area_description\" id=\"game_ar...</td>\n",
       "    </tr>\n",
       "    <tr>\n",
       "      <th>4</th>\n",
       "      <td>910629</td>\n",
       "      <td>19342</td>\n",
       "      <td>105600</td>\n",
       "      <td>Terraria</td>\n",
       "      <td>0.979202</td>\n",
       "      <td>https://store.steampowered.com/app/105600</td>\n",
       "      <td>&lt;div class=\"game_area_description\" id=\"game_ar...</td>\n",
       "    </tr>\n",
       "  </tbody>\n",
       "</table>\n",
       "</div>"
      ],
      "text/plain": [
       "   Positive  Negative  Game_id         Game_name  Positive_Rate  \\\n",
       "0    285421      3487      620          Portal 2       0.987930   \n",
       "1    102805      1640      400            Portal       0.984298   \n",
       "2    439665      8619   413150    Stardew Valley       0.980773   \n",
       "3    476762      9701   431960  Wallpaper Engine       0.980058   \n",
       "4    910629     19342   105600          Terraria       0.979202   \n",
       "\n",
       "                                       links  \\\n",
       "0     https://store.steampowered.com/app/620   \n",
       "1     https://store.steampowered.com/app/400   \n",
       "2  https://store.steampowered.com/app/413150   \n",
       "3  https://store.steampowered.com/app/431960   \n",
       "4  https://store.steampowered.com/app/105600   \n",
       "\n",
       "                                    Game_description  \n",
       "0  <div class=\"game_area_description\" id=\"game_ar...  \n",
       "1  <div class=\"game_area_description\" id=\"game_ar...  \n",
       "2  <div class=\"game_area_description\" id=\"game_ar...  \n",
       "3  <div class=\"game_area_description\" id=\"game_ar...  \n",
       "4  <div class=\"game_area_description\" id=\"game_ar...  "
      ]
     },
     "execution_count": 2,
     "metadata": {},
     "output_type": "execute_result"
    }
   ],
   "source": [
    "df = pd. read_csv('Steam Dataset.csv')\n",
    "df.head()"
   ]
  },
  {
   "cell_type": "code",
   "execution_count": 8,
   "id": "68409709",
   "metadata": {},
   "outputs": [
    {
     "data": {
      "text/plain": [
       "\"game play world's number 1 online action game. engage incredibly realistic brand terrorist warfare wildly popular team-based game. ally teammates complete strategic missions. take enemy sites. rescue hostages. role affects team's success. team's success affects role.\""
      ]
     },
     "execution_count": 8,
     "metadata": {},
     "output_type": "execute_result"
    }
   ],
   "source": [
    "df['Game_description'][5]"
   ]
  },
  {
   "cell_type": "markdown",
   "id": "4081ebc2",
   "metadata": {},
   "source": [
    "# Stopwords"
   ]
  },
  {
   "cell_type": "code",
   "execution_count": 2,
   "id": "20fe5f5c",
   "metadata": {},
   "outputs": [],
   "source": [
    "stop = set(stopwords.words('english'))\n",
    "punctuation = list(string.punctuation)\n",
    "stop.update(punctuation)"
   ]
  },
  {
   "cell_type": "markdown",
   "id": "8a919a11",
   "metadata": {},
   "source": [
    "# Preprocessing\n"
   ]
  },
  {
   "cell_type": "code",
   "execution_count": 6,
   "id": "1e57cb4e",
   "metadata": {},
   "outputs": [],
   "source": [
    "def remove_stopwords(text):\n",
    "    final_text = []\n",
    "    for i in text.split():\n",
    "        if i.strip().lower() not in stop:\n",
    "            final_text.append(i.strip())\n",
    "    return \" \".join(final_text)\n",
    "\n",
    "def processPost(text:str):\n",
    "    text = re.sub('((www\\.[^\\s]+)|(https?://[^\\s]+))',' ',text)\n",
    "    text = re.sub('\\\\s+', ' ', text)\n",
    "    text = re.sub('<.*?>',' ', text)\n",
    "    text= text.lower()\n",
    "    text= remove_stopwords(text)\n",
    "    return text\n",
    "df['Game_description'] = df['Game_description'].apply(processPost)"
   ]
  },
  {
   "cell_type": "code",
   "execution_count": 9,
   "id": "a0b8063c",
   "metadata": {},
   "outputs": [
    {
     "data": {
      "text/plain": [
       "\"game play world's number 1 online action game. engage incredibly realistic brand terrorist warfare wildly popular team-based game. ally teammates complete strategic missions. take enemy sites. rescue hostages. role affects team's success. team's success affects role.\""
      ]
     },
     "execution_count": 9,
     "metadata": {},
     "output_type": "execute_result"
    }
   ],
   "source": [
    "df['Game_description'][5]"
   ]
  },
  {
   "cell_type": "code",
   "execution_count": 10,
   "id": "549f185c",
   "metadata": {},
   "outputs": [
    {
     "data": {
      "text/html": [
       "<div>\n",
       "<style scoped>\n",
       "    .dataframe tbody tr th:only-of-type {\n",
       "        vertical-align: middle;\n",
       "    }\n",
       "\n",
       "    .dataframe tbody tr th {\n",
       "        vertical-align: top;\n",
       "    }\n",
       "\n",
       "    .dataframe thead th {\n",
       "        text-align: right;\n",
       "    }\n",
       "</style>\n",
       "<table border=\"1\" class=\"dataframe\">\n",
       "  <thead>\n",
       "    <tr style=\"text-align: right;\">\n",
       "      <th></th>\n",
       "      <th>Positive</th>\n",
       "      <th>Negative</th>\n",
       "      <th>Game_id</th>\n",
       "      <th>Game_name</th>\n",
       "      <th>Positive_Rate</th>\n",
       "      <th>links</th>\n",
       "      <th>Game_description</th>\n",
       "    </tr>\n",
       "  </thead>\n",
       "  <tbody>\n",
       "    <tr>\n",
       "      <th>0</th>\n",
       "      <td>285421</td>\n",
       "      <td>3487</td>\n",
       "      <td>620</td>\n",
       "      <td>Portal 2</td>\n",
       "      <td>0.987930</td>\n",
       "      <td>https://store.steampowered.com/app/620</td>\n",
       "      <td>game portal 2 draws award-winning formula inno...</td>\n",
       "    </tr>\n",
       "    <tr>\n",
       "      <th>1</th>\n",
       "      <td>102805</td>\n",
       "      <td>1640</td>\n",
       "      <td>400</td>\n",
       "      <td>Portal</td>\n",
       "      <td>0.984298</td>\n",
       "      <td>https://store.steampowered.com/app/400</td>\n",
       "      <td>game portal™ new single player game valve. set...</td>\n",
       "    </tr>\n",
       "    <tr>\n",
       "      <th>2</th>\n",
       "      <td>439665</td>\n",
       "      <td>8619</td>\n",
       "      <td>413150</td>\n",
       "      <td>Stardew Valley</td>\n",
       "      <td>0.980773</td>\n",
       "      <td>https://store.steampowered.com/app/413150</td>\n",
       "      <td>game stardew valley open-ended country-life rp...</td>\n",
       "    </tr>\n",
       "    <tr>\n",
       "      <th>3</th>\n",
       "      <td>476762</td>\n",
       "      <td>9701</td>\n",
       "      <td>431960</td>\n",
       "      <td>Wallpaper Engine</td>\n",
       "      <td>0.980058</td>\n",
       "      <td>https://store.steampowered.com/app/431960</td>\n",
       "      <td>software wallpaper engine enables use live wal...</td>\n",
       "    </tr>\n",
       "    <tr>\n",
       "      <th>4</th>\n",
       "      <td>910629</td>\n",
       "      <td>19342</td>\n",
       "      <td>105600</td>\n",
       "      <td>Terraria</td>\n",
       "      <td>0.979202</td>\n",
       "      <td>https://store.steampowered.com/app/105600</td>\n",
       "      <td>game dig, fight, explore, build: world fingert...</td>\n",
       "    </tr>\n",
       "    <tr>\n",
       "      <th>...</th>\n",
       "      <td>...</td>\n",
       "      <td>...</td>\n",
       "      <td>...</td>\n",
       "      <td>...</td>\n",
       "      <td>...</td>\n",
       "      <td>...</td>\n",
       "      <td>...</td>\n",
       "    </tr>\n",
       "    <tr>\n",
       "      <th>95</th>\n",
       "      <td>1108250</td>\n",
       "      <td>875814</td>\n",
       "      <td>578080</td>\n",
       "      <td>PUBG: BATTLEGROUNDS</td>\n",
       "      <td>0.558576</td>\n",
       "      <td>https://store.steampowered.com/app/578080</td>\n",
       "      <td>game land, loot, survive! play pubg: battlegro...</td>\n",
       "    </tr>\n",
       "    <tr>\n",
       "      <th>96</th>\n",
       "      <td>115650</td>\n",
       "      <td>93024</td>\n",
       "      <td>433850</td>\n",
       "      <td>Z1 Battle Royale</td>\n",
       "      <td>0.554214</td>\n",
       "      <td>https://store.steampowered.com/app/433850</td>\n",
       "      <td>game z1 battle royale free play, fast-paced, a...</td>\n",
       "    </tr>\n",
       "    <tr>\n",
       "      <th>97</th>\n",
       "      <td>1315</td>\n",
       "      <td>1176</td>\n",
       "      <td>439700</td>\n",
       "      <td>Z1 Battle Royale: Test Server</td>\n",
       "      <td>0.527900</td>\n",
       "      <td>https://store.steampowered.com/app/439700</td>\n",
       "      <td>game test server z1 battle royale free play, f...</td>\n",
       "    </tr>\n",
       "    <tr>\n",
       "      <th>98</th>\n",
       "      <td>30501</td>\n",
       "      <td>29952</td>\n",
       "      <td>1089350</td>\n",
       "      <td>NBA 2K20</td>\n",
       "      <td>0.504541</td>\n",
       "      <td>https://store.steampowered.com/app/1089350</td>\n",
       "      <td>game note: multiplayer servers nba 2k20 shutdo...</td>\n",
       "    </tr>\n",
       "    <tr>\n",
       "      <th>99</th>\n",
       "      <td>34889</td>\n",
       "      <td>97467</td>\n",
       "      <td>1517290</td>\n",
       "      <td>Battlefield 2042</td>\n",
       "      <td>0.263600</td>\n",
       "      <td>https://store.steampowered.com/app/1517290</td>\n",
       "      <td>game welcome 2042 battlefield™ 2042 first-pers...</td>\n",
       "    </tr>\n",
       "  </tbody>\n",
       "</table>\n",
       "<p>100 rows × 7 columns</p>\n",
       "</div>"
      ],
      "text/plain": [
       "    Positive  Negative  Game_id                      Game_name  Positive_Rate  \\\n",
       "0     285421      3487      620                       Portal 2       0.987930   \n",
       "1     102805      1640      400                         Portal       0.984298   \n",
       "2     439665      8619   413150                 Stardew Valley       0.980773   \n",
       "3     476762      9701   431960               Wallpaper Engine       0.980058   \n",
       "4     910629     19342   105600                       Terraria       0.979202   \n",
       "..       ...       ...      ...                            ...            ...   \n",
       "95   1108250    875814   578080            PUBG: BATTLEGROUNDS       0.558576   \n",
       "96    115650     93024   433850               Z1 Battle Royale       0.554214   \n",
       "97      1315      1176   439700  Z1 Battle Royale: Test Server       0.527900   \n",
       "98     30501     29952  1089350                       NBA 2K20       0.504541   \n",
       "99     34889     97467  1517290               Battlefield 2042       0.263600   \n",
       "\n",
       "                                         links  \\\n",
       "0       https://store.steampowered.com/app/620   \n",
       "1       https://store.steampowered.com/app/400   \n",
       "2    https://store.steampowered.com/app/413150   \n",
       "3    https://store.steampowered.com/app/431960   \n",
       "4    https://store.steampowered.com/app/105600   \n",
       "..                                         ...   \n",
       "95   https://store.steampowered.com/app/578080   \n",
       "96   https://store.steampowered.com/app/433850   \n",
       "97   https://store.steampowered.com/app/439700   \n",
       "98  https://store.steampowered.com/app/1089350   \n",
       "99  https://store.steampowered.com/app/1517290   \n",
       "\n",
       "                                     Game_description  \n",
       "0   game portal 2 draws award-winning formula inno...  \n",
       "1   game portal™ new single player game valve. set...  \n",
       "2   game stardew valley open-ended country-life rp...  \n",
       "3   software wallpaper engine enables use live wal...  \n",
       "4   game dig, fight, explore, build: world fingert...  \n",
       "..                                                ...  \n",
       "95  game land, loot, survive! play pubg: battlegro...  \n",
       "96  game z1 battle royale free play, fast-paced, a...  \n",
       "97  game test server z1 battle royale free play, f...  \n",
       "98  game note: multiplayer servers nba 2k20 shutdo...  \n",
       "99  game welcome 2042 battlefield™ 2042 first-pers...  \n",
       "\n",
       "[100 rows x 7 columns]"
      ]
     },
     "execution_count": 10,
     "metadata": {},
     "output_type": "execute_result"
    }
   ],
   "source": [
    "df"
   ]
  },
  {
   "cell_type": "markdown",
   "id": "37122da4",
   "metadata": {},
   "source": [
    "# Tf-idf"
   ]
  },
  {
   "cell_type": "code",
   "execution_count": 12,
   "id": "b89826fe",
   "metadata": {},
   "outputs": [],
   "source": [
    "tf = TfidfVectorizer(analyzer='word',ngram_range=(1, 2),min_df=0, stop_words='english')\n",
    "tfidf_matrix = tf.fit_transform(df['Game_description'])"
   ]
  },
  {
   "cell_type": "code",
   "execution_count": 13,
   "id": "ab31ce97",
   "metadata": {},
   "outputs": [
    {
     "data": {
      "text/plain": [
       "(100, 17449)"
      ]
     },
     "execution_count": 13,
     "metadata": {},
     "output_type": "execute_result"
    }
   ],
   "source": [
    "tfidf_matrix.shape"
   ]
  },
  {
   "cell_type": "markdown",
   "id": "62f77dca",
   "metadata": {},
   "source": [
    "# Cosine Similarity"
   ]
  },
  {
   "cell_type": "code",
   "execution_count": 14,
   "id": "ad2734de",
   "metadata": {},
   "outputs": [],
   "source": [
    "cosine_sim = linear_kernel(tfidf_matrix, tfidf_matrix)"
   ]
  },
  {
   "cell_type": "code",
   "execution_count": 15,
   "id": "1a881d96",
   "metadata": {},
   "outputs": [
    {
     "name": "stdout",
     "output_type": "stream",
     "text": [
      "(100, 100)\n",
      "[1.         0.11926131 0.03270857 0.01515316 0.02097364 0.02882757\n",
      " 0.01162177 0.05256713 0.05242094 0.01769296 0.0246597  0.06152613\n",
      " 0.01531197 0.00898642 0.0216172  0.03370947 0.02356805 0.01538263\n",
      " 0.02061917 0.05367107 0.04740144 0.01053809 0.02692721 0.02176376\n",
      " 0.01389294 0.01369197 0.04568278 0.01862118 0.01867454 0.01596634\n",
      " 0.0086455  0.07947391 0.03524796 0.01245734 0.00992491 0.04309343\n",
      " 0.02870796 0.00243108 0.06675055 0.01801148 0.02570804 0.04427376\n",
      " 0.01591303 0.01492361 0.03136281 0.02145427 0.00653059 0.02380225\n",
      " 0.02900405 0.01929094 0.02611634 0.01270843 0.01577796 0.00332088\n",
      " 0.02278299 0.01541152 0.02863519 0.0061923  0.01781712 0.03442806\n",
      " 0.02861987 0.02915476 0.04982444 0.02169729 0.02139933 0.01932556\n",
      " 0.07750882 0.01395743 0.00734137 0.01853358 0.01506764 0.01394257\n",
      " 0.01244654 0.02841873 0.01604578 0.02356259 0.00664962 0.07750882\n",
      " 0.0108122  0.01778489 0.01723673 0.02415425 0.02509614 0.02259877\n",
      " 0.01701886 0.01515388 0.01045817 0.01680468 0.0135679  0.02463189\n",
      " 0.01320734 0.01011267 0.03494033 0.02451545 0.02574725 0.02200208\n",
      " 0.01854711 0.02177997 0.04022669 0.03591681]\n"
     ]
    }
   ],
   "source": [
    "print(cosine_sim.shape)\n",
    "print(cosine_sim[0])"
   ]
  },
  {
   "cell_type": "markdown",
   "id": "cfb08fde",
   "metadata": {},
   "source": [
    "# Cosine similarity score"
   ]
  },
  {
   "cell_type": "code",
   "execution_count": 19,
   "id": "b1db40f7",
   "metadata": {},
   "outputs": [],
   "source": [
    "smd = df.reset_index()\n",
    "titles = df['Game_name']\n",
    "indices = pd.Series(df.index, index=df['Game_name'])"
   ]
  },
  {
   "cell_type": "code",
   "execution_count": 25,
   "id": "2448a5f7",
   "metadata": {},
   "outputs": [],
   "source": [
    "def get_recommendations(Game_name):\n",
    "    idx = indices[Game_name]\n",
    "    sim_scores = list(enumerate(cosine_sim[idx]))\n",
    "    sim_scores = sorted(sim_scores, key=lambda x: x[1], reverse=True)\n",
    "    sim_scores = sim_scores[1:31] # you can change these numbers to retrieve more or less trhan 30 recommendations\n",
    "    Gameindices = [i[0] for i in sim_scores]\n",
    "    return titles.iloc[Gameindices]"
   ]
  },
  {
   "cell_type": "code",
   "execution_count": 32,
   "id": "6c6f898a",
   "metadata": {},
   "outputs": [
    {
     "data": {
      "text/plain": [
       "87                  Lost Ark\n",
       "47             7 Days to Die\n",
       "18                   Valheim\n",
       "73                 Fallout 4\n",
       "2             Stardew Valley\n",
       "89                 New World\n",
       "72                     Trove\n",
       "29          Cities: Skylines\n",
       "35    A Story About My Uncle\n",
       "56              Apex Legends\n",
       "Name: Game_name, dtype: object"
      ]
     },
     "execution_count": 32,
     "metadata": {},
     "output_type": "execute_result"
    }
   ],
   "source": [
    "get_recommendations('Terraria').head(10)"
   ]
  },
  {
   "cell_type": "code",
   "execution_count": 33,
   "id": "dedf7672",
   "metadata": {},
   "outputs": [
    {
     "data": {
      "text/plain": [
       "0                           Portal 2\n",
       "66      Fall Guys: Ultimate Knockout\n",
       "77                NARAKA: BLADEPOINT\n",
       "83      Half-Life Deathmatch: Source\n",
       "7                        Half-Life 2\n",
       "8                      Left 4 Dead 2\n",
       "24                  Human: Fall Flat\n",
       "31    Call of Duty: Modern Warfare 2\n",
       "20                       Dying Light\n",
       "99                  Battlefield 2042\n",
       "Name: Game_name, dtype: object"
      ]
     },
     "execution_count": 33,
     "metadata": {},
     "output_type": "execute_result"
    }
   ],
   "source": [
    "get_recommendations('Portal').head(10)"
   ]
  },
  {
   "cell_type": "code",
   "execution_count": null,
   "id": "82a75a01",
   "metadata": {},
   "outputs": [],
   "source": []
  }
 ],
 "metadata": {
  "kernelspec": {
   "display_name": "Python 3 (ipykernel)",
   "language": "python",
   "name": "python3"
  },
  "language_info": {
   "codemirror_mode": {
    "name": "ipython",
    "version": 3
   },
   "file_extension": ".py",
   "mimetype": "text/x-python",
   "name": "python",
   "nbconvert_exporter": "python",
   "pygments_lexer": "ipython3",
   "version": "3.9.13"
  }
 },
 "nbformat": 4,
 "nbformat_minor": 5
}
